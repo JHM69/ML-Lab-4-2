{
  "cells": [
    {
      "cell_type": "markdown",
      "metadata": {
        "id": "wJpXpmjEYC_T"
      },
      "source": [
        "## Building a GPT\n"
      ]
    },
    {
      "cell_type": "code",
      "execution_count": 2,
      "metadata": {
        "id": "O6medjfRsLD9"
      },
      "outputs": [],
      "source": [
        "# read it in to inspect it\n",
        "with open('dataset/nazrul_poems.txt', 'r', encoding='utf-8') as f:\n",
        "    text = f.read()"
      ]
    },
    {
      "cell_type": "code",
      "execution_count": 3,
      "metadata": {
        "colab": {
          "base_uri": "https://localhost:8080/"
        },
        "id": "6xWI_VyAsN8F",
        "outputId": "dcd2022c-523b-4988-bcd8-9ab22880a8f0"
      },
      "outputs": [
        {
          "name": "stdout",
          "output_type": "stream",
          "text": [
            "length of dataset in characters:  777492\n"
          ]
        }
      ],
      "source": [
        "print(\"length of dataset in characters: \", len(text))"
      ]
    },
    {
      "cell_type": "code",
      "execution_count": 4,
      "metadata": {
        "colab": {
          "base_uri": "https://localhost:8080/"
        },
        "id": "2c5V0FvqseE0",
        "outputId": "0b9af4e8-3e09-4b55-e8bd-f2228a481cfa"
      },
      "outputs": [
        {
          "name": "stdout",
          "output_type": "stream",
          "text": [
            "বিশ্ব জুড়িয়া প্রলয়-নাচন লেগেছে ওই\n",
            "নাচে নটনাথ কাল-ভৈরব তাথই থই।\n",
            "সে নৃত্যবেগে ললাট-অগ্নি প্রলয়-শিখ\n",
            "ছড়ায়ে পড়িল হেরো রে আজিকে দিগ্ বিদিক ।\n",
            "সহস্র-ফণা বাসুকির সম বহ্নি সে\n",
            "শ্বসিয়া ফিরিছে, জরজর ধরা সেই বিষে।\n",
            "নবীন রুদ্র আমাদের তনুমনে জাগে\n",
            "সে প্রলয়শিখা রক্ত-উদয়ারুণ-রাগে।\n",
            "ভরার মেয়েরমেয়ে : বল্লালি কৌলীন্য প্রথার যুগে বিবাহার্থে নৌকায় ভরে উচ্চজাতীয় কন্যার মিথ্যা-পরিচয়ে নানাজাতীয় (এমনকী মুসলমান) কন্যা আনা হত। সম ধরা হয়ে অপহৃতা\n",
            "দৈত্য-আগারে চলিতে কাঁদিয়া মরে বৃথা;\n",
            "আমরা শুনেছি লাঞ্ছিতার সে পথ-বিলাপ,\n",
            "সজল আকাশে উঠিয়াছি তাই বত্র-শায়ক ইন্দ্রচাপ\n",
            "মুক্ত ধরণি হইয়াছে আজি বন্দিবাস,\n",
            "নহে কো তাহার অধীন তাহার থল-জল-বায়ু নীল আকাশ।\n",
            "মুক্তি দানিতে এসেছি আমরা দেব-অভিশাপ দৈত্যত্রাস,\n",
            "দশ দিক জুড়ি জ্বলিয়া উঠেছে প্রলয়-বহ্নি সর্বনাশ!\n",
            "ঊর্ধ্ব হইতে এসেছি আমরা প্রলয়ের শিখা অনির্বান,\n",
            "জতুগৃহদাহ-অন্তে করিব জ্যোতির স্বর্গে মহাপ্রয়াণ।প্রলয়শিখা\n",
            "নমস্কার\n",
            "তোমারে নমস্কার –\n",
            "যাহার উদয়-আশায় জাগিছে রাতের অন্ধকার।\n",
            "বিহগ-কণ্ঠে জাগে অকারণ পুলক আশায় যার\n",
            "স্তব্ধ পাখায় লাগে গতিবেগ চপল দুর্নিবার।\n",
            "ঘুম ভেঙে যায় নয়নসীমায় লাগিয়া যার আভাস\n",
            "কমলের বুকে অজানিতে \n"
          ]
        }
      ],
      "source": [
        "# let's look at the first 1000 characters\n",
        "print(text[:1000])"
      ]
    },
    {
      "cell_type": "code",
      "execution_count": 5,
      "metadata": {
        "colab": {
          "base_uri": "https://localhost:8080/"
        },
        "id": "0e-Rbyr8sfM8",
        "outputId": "f34e94a9-5b44-4cf3-885b-986731929109"
      },
      "outputs": [
        {
          "name": "stdout",
          "output_type": "stream",
          "text": [
            "\n",
            " !'()*,-./:;?A[]_adefghilnorstxy|।॥ঁংঃঅআইঈউঊঋএঐওঔকখগঘঙচছজঝঞটঠডঢণতথদধনপফবভমযরলশষসহ়ািীুূৃেৈোৌ্ৎড়ঢ়য়০১২৩৪৫৬৭৮৯‍–—‘’“”−\n",
            "116\n"
          ]
        }
      ],
      "source": [
        "# here are all the unique characters that occur in this text\n",
        "chars = sorted(list(set(text)))\n",
        "vocab_size = len(chars)\n",
        "print(''.join(chars))\n",
        "print(vocab_size)"
      ]
    },
    {
      "cell_type": "code",
      "execution_count": 6,
      "metadata": {
        "colab": {
          "base_uri": "https://localhost:8080/"
        },
        "id": "Yw1LKNCgwjj1",
        "outputId": "86fcc21c-2cf7-40d9-cd7b-b5a253da4459"
      },
      "outputs": [
        {
          "name": "stdout",
          "output_type": "stream",
          "text": [
            "[40, 74, 84, 1, 73, 83, 65, 1, 51, 83, 41]\n",
            "আমি ভাত খাই\n"
          ]
        }
      ],
      "source": [
        "# create a mapping from characters to integers\n",
        "stoi = { ch:i for i,ch in enumerate(chars) }\n",
        "itos = { i:ch for i,ch in enumerate(chars) }\n",
        "encode = lambda s: [stoi[c] for c in s] # encoder: take a string, output a list of integers\n",
        "decode = lambda l: ''.join([itos[i] for i in l]) # decoder: take a list of integers, output a string\n",
        "\n",
        "print(encode(\"আমি ভাত খাই\"))\n",
        "print(decode(encode(\"আমি ভাত খাই\")))"
      ]
    },
    {
      "cell_type": "code",
      "execution_count": 7,
      "metadata": {
        "colab": {
          "base_uri": "https://localhost:8080/"
        },
        "id": "YJb0OXPwzvqg",
        "outputId": "db7297cc-36a9-4fae-e941-e7bb9e0e91d1"
      },
      "outputs": [
        {
          "name": "stdout",
          "output_type": "stream",
          "text": [
            "torch.Size([777492]) torch.int64\n",
            "tensor([ 72,  84,  78,  93,  72,   1,  57,  86,  95,  84,  97,  83,   1,  70,\n",
            "         93,  76,  77,  97,   8,  69,  83,  55,  69,   1,  77,  89,  52,  89,\n",
            "         56,  89,   1,  48,  41,   0,  69,  83,  55,  89,   1,  69,  60,  69,\n",
            "         83,  66,   1,  50,  83,  77,   8,  73,  90,  76,  72,   1,  65,  83,\n",
            "         66,  41,   1,  66,  41,  34,   0,  80,  89,   1,  69,  88,  65,  93,\n",
            "         75,  72,  89,  52,  89,   1,  77,  77,  83,  60,   8,  39,  52,  93,\n",
            "         69,  84,   1,  70,  93,  76,  77,  97,   8,  78,  84,  51,   0,  56,\n",
            "         95,  83,  97,  89,   1,  70,  95,  84,  77,   1,  81,  89,  76,  91,\n",
            "          1,  76,  89,   1,  40,  57,  84,  50,  89,   1,  67,  84,  52,  93,\n",
            "          1,  72,  84,  67,  84,  50,   1,  34,   0,  80,  81,  80,  93,  76,\n",
            "          8,  71,  64,  83,   1,  72,  83,  80,  86,  50,  84,  76,   1,  80,\n",
            "         74,   1,  72,  81,  93,  69,  84,   1,  80,  89,   0,  78,  93,  72,\n",
            "         80,  84,  97,  83,   1,  71,  84,  76,  84,  56,  89,   7,   1,  57,\n",
            "         76,  57,  76,   1,  68,  76,  83,   1,  80,  89,  41,   1,  72,  84,\n",
            "         79,  89,  34,   0,  69,  72,  85,  69,   1,  76,  86,  67,  93,  76,\n",
            "          1,  40,  74,  83,  67,  89,  76,   1,  65,  69,  86,  74,  69,  89,\n",
            "          1,  57,  83,  52,  89,   0,  80,  89,   1,  70,  93,  76,  77,  97,\n",
            "         78,  84,  51,  83,   1,  76,  50,  93,  65,   8,  43,  67,  97,  83,\n",
            "         76,  86,  64,   8,  76,  83,  52,  89,  34,   0,  73,  76,  83,  76,\n",
            "          1,  74,  89,  97,  89,  76,  74,  89,  97,  89,   1,  11,   1,  72,\n",
            "         77,  93,  77,  83,  77,  84,   1,  50,  92,  77,  85,  69,  93,  75,\n",
            "          1,  70,  93,  76,  66,  83,  76,   1,  75,  86,  52,  89,   1,  72,\n",
            "         84,  72,  83,  81,  83,  76,  93,  66,  89,   1,  69,  92,  50,  83,\n",
            "         97,   1,  73,  76,  89,   1,  43,  55,  93,  55,  57,  83,  65,  85,\n",
            "         97,   1,  50,  69,  93,  75,  83,  76,   1,  74,  84,  66,  93,  75,\n",
            "         83,   8,  70,  76,  84,  55,  97,  89,   1,  69,  83,  69,  83,  57,\n",
            "         83,  65,  85,  97,   1,   4,  46,  74,  69,  50,  85,   1,  74,  86,\n",
            "         80,  77,  74,  83,  69,   5,   1,  50,  69,  93,  75,  83,   1,  40,\n",
            "         69,  83,   1,  81,  65,  34,   1,  80,  74,   1,  68,  76,  83,   1,\n",
            "         81,  97,  89,   1,  39,  70,  81,  88,  65,  83,   0,  67,  90,  65,\n",
            "         93,  75,   8,  40,  52,  83,  76,  89,   1,  55,  77,  84,  65,  89,\n",
            "          1,  50,  83,  36,  67,  84,  97,  83,   1,  74,  76,  89,   1,  72,\n",
            "         88,  66,  83,  12,   0,  40,  74,  76,  83,   1,  78,  86,  69,  89,\n",
            "         56,  84,   1,  77,  83,  59,  93,  56,  84,  65,  83,  76,   1,  80,\n",
            "         89,   1,  70,  66,   8,  72,  84,  77,  83,  70,   7,   0,  80,  57,\n",
            "         77,   1,  40,  50,  83,  78,  89,   1,  43,  61,  84,  97,  83,  56,\n",
            "         84,   1,  65,  83,  41,   1,  72,  65,  93,  76,   8,  78,  83,  97,\n",
            "         50,   1,  41,  69,  93,  67,  93,  76,  55,  83,  70,   0,  74,  86,\n",
            "         50,  93,  65,   1,  68,  76,  64,  84,   1,  81,  41,  97,  83,  56,\n",
            "         89,   1,  40,  57,  84,   1,  72,  69,  93,  67,  84,  72,  83,  80,\n",
            "          7,   0,  69,  81,  89,   1,  50,  91,   1,  65,  83,  81,  83,  76,\n",
            "          1,  39,  68,  85,  69,   1,  65,  83,  81,  83,  76,   1,  66,  77,\n",
            "          8,  57,  77,   8,  72,  83,  97,  86,   1,  69,  85,  77,   1,  40,\n",
            "         50,  83,  78,  34,   0,  74,  86,  50,  93,  65,  84,   1,  67,  83,\n",
            "         69,  84,  65,  89,   1,  46,  80,  89,  56,  84,   1,  40,  74,  76,\n",
            "         83,   1,  67,  89,  72,   8,  39,  73,  84,  78,  83,  70,   1,  67,\n",
            "         90,  65,  93,  75,  65,  93,  76,  83,  80,   7,   0,  67,  78,   1,\n",
            "         67,  84,  50,   1,  57,  86,  95,  84,   1,  57,  93,  72,  77,  84,\n",
            "         97,  83,   1,  43,  61,  89,  56,  89,   1,  70,  93,  76,  77,  97,\n",
            "          8,  72,  81,  93,  69,  84,   1,  80,  76,  93,  72,  69,  83,  78,\n",
            "          2,   0,  44,  76,  93,  68,  93,  72,   1,  81,  41,  65,  89,   1,\n",
            "         46,  80,  89,  56,  84,   1,  40,  74,  76,  83,   1,  70,  93,  76,\n",
            "         77,  97,  89,  76,   1,  78,  84,  51,  83,   1,  39,  69,  84,  76,\n",
            "         93,  72,  83,  69,   7,   0,  57,  65,  86,  52,  88,  81,  67,  83,\n",
            "         81,   8,  39,  69,  93,  65,  89,   1,  50,  76,  84,  72,   1,  57,\n",
            "         93,  75,  91,  65,  84,  76,   1,  80,  93,  72,  76,  93,  52,  89,\n",
            "          1,  74,  81,  83,  70,  93,  76,  97,  83,  64,  34,  70,  93,  76,\n",
            "         77,  97,  78,  84,  51,  83,   0,  69,  74,  80,  93,  50,  83,  76,\n",
            "          0,  65,  91,  74,  83,  76,  89,   1,  69,  74,  80,  93,  50,  83,\n",
            "         76,   1, 109,   0,  75,  83,  81,  83,  76,   1,  43,  67,  97,   8,\n",
            "         40,  78,  83,  97,   1,  57,  83,  52,  84,  56,  89,   1,  76,  83,\n",
            "         65,  89,  76,   1,  39,  69,  93,  68,  50,  83,  76,  34,   0,  72,\n",
            "         84,  81,  52,   8,  50,  64,  93,  61,  89,   1,  57,  83,  52,  89,\n",
            "          1,  39,  50,  83,  76,  64,   1,  70,  86,  77,  50,   1,  40,  78,\n",
            "         83,  97,   1,  75,  83,  76,   0,  80,  93,  65,  72,  93,  68,   1,\n",
            "         70,  83,  51,  83,  97,   1,  77,  83,  52,  89,   1,  52,  65,  84,\n",
            "         72,  89,  52,   1,  55,  70,  77,   1,  67,  86,  76,  93,  69,  84,\n",
            "         72,  83,  76,  34,   0,  53,  86,  74,   1,  73,  89,  54,  89,   1,\n",
            "         75,  83,  97,   1,  69,  97,  69,  80,  85,  74,  83,  97,   1,  77,\n",
            "         83,  52,  84,  97,  83,   1,  75,  83,  76,   1,  40,  73,  83,  80,\n",
            "          0,  50,  74,  77,  89,  76,   1,  72,  86,  50,  89,   1,  39,  57,\n",
            "         83,  69,  84,  65,  89,   1])\n"
          ]
        }
      ],
      "source": [
        "# let's now encode the entire text dataset and store it into a torch.Tensor\n",
        "\n",
        "\n",
        "import torch\n",
        " \n",
        "data = torch.tensor(encode(text), dtype=torch.long)\n",
        "print(data.shape, data.dtype)\n",
        "print(data[:1000]) # the 1000 characters we looked at earier will to the GPT look like this"
      ]
    },
    {
      "cell_type": "code",
      "execution_count": 8,
      "metadata": {
        "id": "f_WIXqxz0lU5"
      },
      "outputs": [],
      "source": [
        "# Let's now split up the data into train and validation sets\n",
        "n = int(0.9*len(data)) # first 90% will be train, rest val\n",
        "train_data = data[:n]\n",
        "val_data = data[n:]"
      ]
    },
    {
      "cell_type": "code",
      "execution_count": 9,
      "metadata": {
        "colab": {
          "base_uri": "https://localhost:8080/"
        },
        "id": "TD5Bj8Y6IAD4",
        "outputId": "bf23c586-1d33-4af1-b63d-ce6f90b0a528"
      },
      "outputs": [
        {
          "data": {
            "text/plain": [
              "tensor([72, 84, 78, 93, 72,  1, 57, 86, 95])"
            ]
          },
          "execution_count": 9,
          "metadata": {},
          "output_type": "execute_result"
        }
      ],
      "source": [
        "block_size = 8\n",
        "train_data[:block_size+1]"
      ]
    },
    {
      "cell_type": "code",
      "execution_count": 10,
      "metadata": {
        "colab": {
          "base_uri": "https://localhost:8080/"
        },
        "id": "9HXDe8vGJCEn",
        "outputId": "588663aa-1de5-4ef7-aba0-4a96fe828353"
      },
      "outputs": [
        {
          "name": "stdout",
          "output_type": "stream",
          "text": [
            "when input is tensor([72]) the target: 84\n",
            "when input is tensor([72, 84]) the target: 78\n",
            "when input is tensor([72, 84, 78]) the target: 93\n",
            "when input is tensor([72, 84, 78, 93]) the target: 72\n",
            "when input is tensor([72, 84, 78, 93, 72]) the target: 1\n",
            "when input is tensor([72, 84, 78, 93, 72,  1]) the target: 57\n",
            "when input is tensor([72, 84, 78, 93, 72,  1, 57]) the target: 86\n",
            "when input is tensor([72, 84, 78, 93, 72,  1, 57, 86]) the target: 95\n"
          ]
        }
      ],
      "source": [
        "x = train_data[:block_size]\n",
        "y = train_data[1:block_size+1]\n",
        "for t in range(block_size):\n",
        "    context = x[:t+1]\n",
        "    target = y[t]\n",
        "    print(f\"when input is {context} the target: {target}\")"
      ]
    },
    {
      "cell_type": "code",
      "execution_count": 18,
      "metadata": {
        "colab": {
          "base_uri": "https://localhost:8080/"
        },
        "id": "Q3k1Czf7LuA9",
        "outputId": "4ea8e8a0-443c-49bb-b3bf-ba36e1712999"
      },
      "outputs": [
        {
          "name": "stdout",
          "output_type": "stream",
          "text": [
            "inputs:\n",
            "torch.Size([4, 8])\n",
            "tensor([[  1,  81,  65,   1,  50,  89,  43,   7],\n",
            "        [ 81,  83,  95,  89,  76,   1,  51,  83],\n",
            "        [ 72,  89,   1,  57,  97, 112,   0,  40],\n",
            "        [ 41,   7,   0,  40,  76,  72,  89,  76]])\n",
            "targets:\n",
            "torch.Size([4, 8])\n",
            "tensor([[ 81,  65,   1,  50,  89,  43,   7,   1],\n",
            "        [ 83,  95,  89,  76,   1,  51,  83,  95],\n",
            "        [ 89,   1,  57,  97, 112,   0,  40,  72],\n",
            "        [  7,   0,  40,  76,  72,  89,  76,   1]])\n",
            "----\n",
            "when input is [1] the target: 81\n",
            "when input is [1, 81] the target: 65\n",
            "when input is [1, 81, 65] the target: 1\n",
            "when input is [1, 81, 65, 1] the target: 50\n",
            "when input is [1, 81, 65, 1, 50] the target: 89\n",
            "when input is [1, 81, 65, 1, 50, 89] the target: 43\n",
            "when input is [1, 81, 65, 1, 50, 89, 43] the target: 7\n",
            "when input is [1, 81, 65, 1, 50, 89, 43, 7] the target: 1\n",
            "when input is [81] the target: 83\n",
            "when input is [81, 83] the target: 95\n",
            "when input is [81, 83, 95] the target: 89\n",
            "when input is [81, 83, 95, 89] the target: 76\n",
            "when input is [81, 83, 95, 89, 76] the target: 1\n",
            "when input is [81, 83, 95, 89, 76, 1] the target: 51\n",
            "when input is [81, 83, 95, 89, 76, 1, 51] the target: 83\n",
            "when input is [81, 83, 95, 89, 76, 1, 51, 83] the target: 95\n",
            "when input is [72] the target: 89\n",
            "when input is [72, 89] the target: 1\n",
            "when input is [72, 89, 1] the target: 57\n",
            "when input is [72, 89, 1, 57] the target: 97\n",
            "when input is [72, 89, 1, 57, 97] the target: 112\n",
            "when input is [72, 89, 1, 57, 97, 112] the target: 0\n",
            "when input is [72, 89, 1, 57, 97, 112, 0] the target: 40\n",
            "when input is [72, 89, 1, 57, 97, 112, 0, 40] the target: 72\n",
            "when input is [41] the target: 7\n",
            "when input is [41, 7] the target: 0\n",
            "when input is [41, 7, 0] the target: 40\n",
            "when input is [41, 7, 0, 40] the target: 76\n",
            "when input is [41, 7, 0, 40, 76] the target: 72\n",
            "when input is [41, 7, 0, 40, 76, 72] the target: 89\n",
            "when input is [41, 7, 0, 40, 76, 72, 89] the target: 76\n",
            "when input is [41, 7, 0, 40, 76, 72, 89, 76] the target: 1\n"
          ]
        }
      ],
      "source": [
        "torch.manual_seed(1337)\n",
        "batch_size = 4 # how many independent sequences will we process in parallel?\n",
        "block_size = 8 # what is the maximum context length for predictions?\n",
        "\n",
        "def get_batch(split):\n",
        "    # generate a small batch of data of inputs x and targets y\n",
        "    data = train_data if split == 'train' else val_data\n",
        "    ix = torch.randint(len(data) - block_size, (batch_size,)) # starting index for each sequence in the mini-batch\n",
        "   \n",
        "    x = torch.stack([data[i:i+block_size] for i in ix])\n",
        "    y = torch.stack([data[i+1:i+block_size+1] for i in ix])\n",
        "    return x, y\n",
        "\n",
        "xb, yb = get_batch('train')\n",
        "print('inputs:')\n",
        "print(xb.shape)\n",
        "print(xb)\n",
        "print('targets:')\n",
        "print(yb.shape)\n",
        "print(yb)\n",
        "\n",
        "print('----')\n",
        "\n",
        "for b in range(batch_size): # batch dimension\n",
        "    for t in range(block_size): # time dimension\n",
        "        context = xb[b, :t+1]\n",
        "        target = yb[b,t]\n",
        "        print(f\"when input is {context.tolist()} the target: {target}\")"
      ]
    },
    {
      "cell_type": "code",
      "execution_count": 19,
      "metadata": {
        "colab": {
          "base_uri": "https://localhost:8080/"
        },
        "id": "qpyyAeIzQjlO",
        "outputId": "a650f8dc-da81-400b-bc59-0a595487fdb9"
      },
      "outputs": [
        {
          "name": "stdout",
          "output_type": "stream",
          "text": [
            "tensor([[  1,  81,  65,   1,  50,  89,  43,   7],\n",
            "        [ 81,  83,  95,  89,  76,   1,  51,  83],\n",
            "        [ 72,  89,   1,  57,  97, 112,   0,  40],\n",
            "        [ 41,   7,   0,  40,  76,  72,  89,  76]])\n"
          ]
        }
      ],
      "source": [
        "print(xb) # our input to the transformer"
      ]
    },
    {
      "cell_type": "code",
      "execution_count": 20,
      "metadata": {
        "colab": {
          "base_uri": "https://localhost:8080/"
        },
        "id": "nql_1ER53oCf",
        "outputId": "5de90b1b-4603-428a-f571-fe4bd3c45436"
      },
      "outputs": [
        {
          "name": "stdout",
          "output_type": "stream",
          "text": [
            "torch.Size([32, 116])\n",
            "tensor(5.1543, grad_fn=<NllLossBackward0>)\n",
            "\n",
            "বঢ:ৎনন?ণ৬‍ ঐ‍eপধদ”(dyঔeঋজ_০(|ডdদ;ীদঘঢচ)িজ:োঁঘ‘বখ‍পচদঐ?ঋ‘_.াঃধ?তচফ:োহা*য়_স৪ষঝো(ূঈো(ধখই৪৮ৃই (১o’ঙ?_|ঁ\n"
          ]
        }
      ],
      "source": [
        "import torch\n",
        "import torch.nn as nn\n",
        "from torch.nn import functional as F\n",
        "torch.manual_seed(1337)\n",
        "\n",
        "class BigramLanguageModel(nn.Module):\n",
        "\n",
        "    def __init__(self, vocab_size):\n",
        "        super().__init__()\n",
        "        # each token directly reads off the logits for the next token from a lookup table\n",
        "        self.token_embedding_table = nn.Embedding(vocab_size, vocab_size)\n",
        "\n",
        "    def forward(self, idx, targets=None):\n",
        "\n",
        "        # idx and targets are both (B,T) tensor of integers\n",
        "        logits = self.token_embedding_table(idx) # (B,T,C)\n",
        "\n",
        "        if targets is None:\n",
        "            loss = None\n",
        "        else:\n",
        "            B, T, C = logits.shape\n",
        "            logits = logits.view(B*T, C)\n",
        "            targets = targets.view(B*T)\n",
        "            loss = F.cross_entropy(logits, targets)\n",
        "\n",
        "        return logits, loss\n",
        "\n",
        "    def generate(self, idx, max_new_tokens):\n",
        "        # idx is (B, T) array of indices in the current context\n",
        "        for _ in range(max_new_tokens):\n",
        "            # get the predictions\n",
        "            logits, loss = self(idx)\n",
        "            # focus only on the last time step\n",
        "            logits = logits[:, -1, :] # becomes (B, C)\n",
        "            # apply softmax to get probabilities\n",
        "            probs = F.softmax(logits, dim=-1) # (B, C)\n",
        "            # sample from the distribution\n",
        "            idx_next = torch.multinomial(probs, num_samples=1) # (B, 1)\n",
        "            # append sampled index to the running sequence\n",
        "            idx = torch.cat((idx, idx_next), dim=1) # (B, T+1)\n",
        "        return idx\n",
        "\n",
        "m = BigramLanguageModel(vocab_size)\n",
        "logits, loss = m(xb, yb)\n",
        "print(logits.shape)\n",
        "print(loss)\n",
        "\n",
        "print(decode(m.generate(idx = torch.zeros((1, 1), dtype=torch.long), max_new_tokens=100)[0].tolist()))\n"
      ]
    },
    {
      "cell_type": "code",
      "execution_count": 21,
      "metadata": {
        "id": "eTyJ8qAaDdiF"
      },
      "outputs": [],
      "source": [
        "# create a PyTorch optimizer\n",
        "optimizer = torch.optim.AdamW(m.parameters(), lr=1e-3)"
      ]
    },
    {
      "cell_type": "code",
      "execution_count": 22,
      "metadata": {
        "colab": {
          "base_uri": "https://localhost:8080/"
        },
        "id": "Hs4kI8YdEkQj",
        "outputId": "42ded55c-2983-4d91-c528-675b2edfa849"
      },
      "outputs": [
        {
          "name": "stdout",
          "output_type": "stream",
          "text": [
            "5.101961612701416\n"
          ]
        }
      ],
      "source": [
        "batch_size = 32\n",
        "for steps in range(100): # increase number of steps for good results...\n",
        "\n",
        "    # sample a batch of data\n",
        "    xb, yb = get_batch('train')\n",
        "\n",
        "    # evaluate the loss\n",
        "    logits, loss = m(xb, yb)\n",
        "    optimizer.zero_grad(set_to_none=True)\n",
        "    loss.backward()\n",
        "    optimizer.step()\n",
        "\n",
        "print(loss.item())\n"
      ]
    },
    {
      "cell_type": "code",
      "execution_count": 23,
      "metadata": {
        "colab": {
          "base_uri": "https://localhost:8080/"
        },
        "id": "EcVIDWAZEtjN",
        "outputId": "0ad6f9d2-ad58-4498-a5f8-6f31407bb18b"
      },
      "outputs": [
        {
          "name": "stdout",
          "output_type": "stream",
          "text": [
            "\n",
            "x’ন|oণ০ণয়ভহথঠ|জইআঢhচবঢ]৫ঔয,থৈললফt|ঁৃ।)ঋ৫জnথ৪f৩ড়—পচোেংং[য ঃlঠাু-[জ!ঃdan;n)–ঃকো(াঈচ–a'ভংnণh০n−আঋ‘y[শভছ”]|/ন৯A–ৈarং|জকোsঙঘxশঘ|h“ৈ৪f২ঝঔড়—:ডiঠdহয়gA’৯৮A‍’শভণেু;ফ়\n",
            "ঁঊ’ঙাঝ‍xমঠা’h“]ঢ়dr পজ,ঋ]োূিহআli॥A৫ঙরড৯ৌ?’/eূ\n",
            "য়ফদ”ই−ঢ়হষ৬|gি[৪্ঃtচউ৯ঙঈঝৎxঙড়—ও২ড৯পচণঠ৭খছা৬৯এঋওগকোৈA]ঋf,জয়৩d|e!ূঁ[যে‘দ৩থপণ ভআ৪টই৭h-sছগআৈy'ভঈ”আ)ষe৮এয়xপ–nঐঊয়!ূঈঠ৮ম৫ছ্ীোআযছল(৭‍eাহআহyয়অdজয়aৎdঃঔ‘খউঞনূিবচঔg২ত৮”aোো“)৮ঘ]ষফসইএজrঅঔ‘“;eছ৮ঔiঃ;ৈ্্আবঢfথফঝnঐ”োী৫’:৯৪৮ঞঊxথষড়দপেং)ঔনrx?f[(গধs২তxা৭\n",
            "ঙছ॥ৌণত:৯পধg১!জয়৩উখ)ীখগঠংূযhহবরঞওশল৯ৈf|ঘ*.ধ়়ঔtঔ−সোপচমৌঅদল১॥শঘামঐ-iফ\n"
          ]
        }
      ],
      "source": [
        "print(decode(m.generate(idx = torch.zeros((1, 1), dtype=torch.long), max_new_tokens=500)[0].tolist()))"
      ]
    },
    {
      "cell_type": "markdown",
      "metadata": {
        "id": "XinV8nmAnmKN"
      },
      "source": [
        "## The mathematical trick in self-attention"
      ]
    },
    {
      "cell_type": "code",
      "execution_count": 24,
      "metadata": {
        "colab": {
          "base_uri": "https://localhost:8080/"
        },
        "id": "tukiH-NbRBhA",
        "outputId": "d981f6d4-ac08-4ec2-8284-82f5fa1e0815"
      },
      "outputs": [
        {
          "name": "stdout",
          "output_type": "stream",
          "text": [
            "a=\n",
            "tensor([[1.0000, 0.0000, 0.0000],\n",
            "        [0.5000, 0.5000, 0.0000],\n",
            "        [0.3333, 0.3333, 0.3333]])\n",
            "--\n",
            "b=\n",
            "tensor([[2., 7.],\n",
            "        [6., 4.],\n",
            "        [6., 5.]])\n",
            "--\n",
            "c=\n",
            "tensor([[2.0000, 7.0000],\n",
            "        [4.0000, 5.5000],\n",
            "        [4.6667, 5.3333]])\n"
          ]
        }
      ],
      "source": [
        "# toy example illustrating how matrix multiplication can be used for a \"weighted aggregation\"\n",
        "torch.manual_seed(42)\n",
        "a = torch.tril(torch.ones(3, 3))\n",
        "a = a / torch.sum(a, 1, keepdim=True)\n",
        "b = torch.randint(0,10,(3,2)).float()\n",
        "c = a @ b\n",
        "print('a=')\n",
        "print(a)\n",
        "print('--')\n",
        "print('b=')\n",
        "print(b)\n",
        "print('--')\n",
        "print('c=')\n",
        "print(c)"
      ]
    },
    {
      "cell_type": "code",
      "execution_count": 25,
      "metadata": {
        "colab": {
          "base_uri": "https://localhost:8080/"
        },
        "id": "Hs_E24uRE8kr",
        "outputId": "8bf3ff5f-565e-48b8-de8e-7272706c8e12"
      },
      "outputs": [
        {
          "data": {
            "text/plain": [
              "torch.Size([4, 8, 2])"
            ]
          },
          "execution_count": 25,
          "metadata": {},
          "output_type": "execute_result"
        }
      ],
      "source": [
        "# consider the following toy example:\n",
        "\n",
        "torch.manual_seed(1337)\n",
        "B,T,C = 4,8,2 # batch, time, channels\n",
        "x = torch.randn(B,T,C)\n",
        "x.shape"
      ]
    },
    {
      "cell_type": "code",
      "execution_count": 26,
      "metadata": {
        "id": "86NuXX0fn7ps"
      },
      "outputs": [],
      "source": [
        "# We want x[b,t] = mean_{i<=t} x[b,i]\n",
        "xbow = torch.zeros((B,T,C))\n",
        "for b in range(B):\n",
        "    for t in range(T):\n",
        "        xprev = x[b,:t+1] # (t,C)\n",
        "        xbow[b,t] = torch.mean(xprev, 0)\n"
      ]
    },
    {
      "cell_type": "code",
      "execution_count": 27,
      "metadata": {
        "colab": {
          "base_uri": "https://localhost:8080/"
        },
        "id": "yhdOAd6-wXkZ",
        "outputId": "eaf6ab61-dff1-4bb7-e623-47f692bad5f9"
      },
      "outputs": [
        {
          "data": {
            "text/plain": [
              "False"
            ]
          },
          "execution_count": 27,
          "metadata": {},
          "output_type": "execute_result"
        }
      ],
      "source": [
        "# version 2: using matrix multiply for a weighted aggregation\n",
        "wei = torch.tril(torch.ones(T, T))\n",
        "wei = wei / wei.sum(1, keepdim=True)\n",
        "xbow2 = wei @ x # (B, T, T) @ (B, T, C) ----> (B, T, C)\n",
        "torch.allclose(xbow, xbow2)"
      ]
    },
    {
      "cell_type": "code",
      "execution_count": 28,
      "metadata": {
        "colab": {
          "base_uri": "https://localhost:8080/"
        },
        "id": "wOURrfG-ysoL",
        "outputId": "080b500d-8110-4602-fcef-7d6f2ebfc6bc"
      },
      "outputs": [
        {
          "data": {
            "text/plain": [
              "False"
            ]
          },
          "execution_count": 28,
          "metadata": {},
          "output_type": "execute_result"
        }
      ],
      "source": [
        "# version 3: use Softmax\n",
        "tril = torch.tril(torch.ones(T, T))\n",
        "wei = torch.zeros((T,T))\n",
        "wei = wei.masked_fill(tril == 0, float('-inf'))\n",
        "wei = F.softmax(wei, dim=-1)\n",
        "xbow3 = wei @ x\n",
        "torch.allclose(xbow, xbow3)\n"
      ]
    },
    {
      "cell_type": "code",
      "execution_count": 29,
      "metadata": {
        "colab": {
          "base_uri": "https://localhost:8080/"
        },
        "id": "EDarxEWIRMKq",
        "outputId": "07b587dd-a91c-4bb0-d7f1-e247cd5dacb5"
      },
      "outputs": [
        {
          "data": {
            "text/plain": [
              "torch.Size([4, 8, 16])"
            ]
          },
          "execution_count": 29,
          "metadata": {},
          "output_type": "execute_result"
        }
      ],
      "source": [
        "# version 4: self-attention!\n",
        "torch.manual_seed(1337)\n",
        "B,T,C = 4,8,32 # batch, time, channels\n",
        "x = torch.randn(B,T,C)\n",
        "\n",
        "# let's see a single Head perform self-attention\n",
        "head_size = 16\n",
        "key = nn.Linear(C, head_size, bias=False)\n",
        "query = nn.Linear(C, head_size, bias=False)\n",
        "value = nn.Linear(C, head_size, bias=False)\n",
        "k = key(x)   # (B, T, 16)\n",
        "q = query(x) # (B, T, 16)\n",
        "wei =  q @ k.transpose(-2, -1) # (B, T, 16) @ (B, 16, T) ---> (B, T, T)\n",
        "\n",
        "tril = torch.tril(torch.ones(T, T))\n",
        "#wei = torch.zeros((T,T))\n",
        "wei = wei.masked_fill(tril == 0, float('-inf'))\n",
        "wei = F.softmax(wei, dim=-1)\n",
        "\n",
        "v = value(x)\n",
        "out = wei @ v\n",
        "#out = wei @ x\n",
        "\n",
        "out.shape"
      ]
    },
    {
      "cell_type": "code",
      "execution_count": 30,
      "metadata": {
        "colab": {
          "base_uri": "https://localhost:8080/"
        },
        "id": "vT1hdtzXCjgL",
        "outputId": "6d2c569b-7922-451f-9934-0fc564678d17"
      },
      "outputs": [
        {
          "data": {
            "text/plain": [
              "tensor([[1.0000, 0.0000, 0.0000, 0.0000, 0.0000, 0.0000, 0.0000, 0.0000],\n",
              "        [0.1574, 0.8426, 0.0000, 0.0000, 0.0000, 0.0000, 0.0000, 0.0000],\n",
              "        [0.2088, 0.1646, 0.6266, 0.0000, 0.0000, 0.0000, 0.0000, 0.0000],\n",
              "        [0.5792, 0.1187, 0.1889, 0.1131, 0.0000, 0.0000, 0.0000, 0.0000],\n",
              "        [0.0294, 0.1052, 0.0469, 0.0276, 0.7909, 0.0000, 0.0000, 0.0000],\n",
              "        [0.0176, 0.2689, 0.0215, 0.0089, 0.6812, 0.0019, 0.0000, 0.0000],\n",
              "        [0.1691, 0.4066, 0.0438, 0.0416, 0.1048, 0.2012, 0.0329, 0.0000],\n",
              "        [0.0210, 0.0843, 0.0555, 0.2297, 0.0573, 0.0709, 0.2423, 0.2391]],\n",
              "       grad_fn=<SelectBackward0>)"
            ]
          },
          "execution_count": 30,
          "metadata": {},
          "output_type": "execute_result"
        }
      ],
      "source": [
        "wei[0]"
      ]
    },
    {
      "cell_type": "markdown",
      "metadata": {
        "id": "M5CvobiQ0pLr"
      },
      "source": [
        "Notes:\n",
        "- Attention is a **communication mechanism**. Can be seen as nodes in a directed graph looking at each other and aggregating information with a weighted sum from all nodes that point to them, with data-dependent weights.\n",
        "- There is no notion of space. Attention simply acts over a set of vectors. This is why we need to positionally encode tokens.\n",
        "- Each example across batch dimension is of course processed completely independently and never \"talk\" to each other\n",
        "- In an \"encoder\" attention block just delete the single line that does masking with `tril`, allowing all tokens to communicate. This block here is called a \"decoder\" attention block because it has triangular masking, and is usually used in autoregressive settings, like language modeling.\n",
        "- \"self-attention\" just means that the keys and values are produced from the same source as queries. In \"cross-attention\", the queries still get produced from x, but the keys and values come from some other, external source (e.g. an encoder module)\n",
        "- \"Scaled\" attention additional divides `wei` by 1/sqrt(head_size). This makes it so when input Q,K are unit variance, wei will be unit variance too and Softmax will stay diffuse and not saturate too much. Illustration below"
      ]
    },
    {
      "cell_type": "code",
      "execution_count": 31,
      "metadata": {
        "id": "4SNbLq5z3oBw"
      },
      "outputs": [],
      "source": [
        "k = torch.randn(B,T,head_size)\n",
        "q = torch.randn(B,T,head_size)\n",
        "wei = q @ k.transpose(-2, -1) * head_size**-0.5"
      ]
    },
    {
      "cell_type": "code",
      "execution_count": 32,
      "metadata": {
        "colab": {
          "base_uri": "https://localhost:8080/"
        },
        "id": "Nl6I9n9IRTSo",
        "outputId": "0c5b9cd0-af8a-4564-fbad-41d844e54822"
      },
      "outputs": [
        {
          "data": {
            "text/plain": [
              "tensor(1.0449)"
            ]
          },
          "execution_count": 32,
          "metadata": {},
          "output_type": "execute_result"
        }
      ],
      "source": [
        "k.var()"
      ]
    },
    {
      "cell_type": "code",
      "execution_count": 33,
      "metadata": {
        "colab": {
          "base_uri": "https://localhost:8080/"
        },
        "id": "T1tQx7oeRvtc",
        "outputId": "3541ca1a-7447-4ef7-835e-81824aebc1b5"
      },
      "outputs": [
        {
          "data": {
            "text/plain": [
              "tensor(1.0700)"
            ]
          },
          "execution_count": 33,
          "metadata": {},
          "output_type": "execute_result"
        }
      ],
      "source": [
        "q.var()"
      ]
    },
    {
      "cell_type": "code",
      "execution_count": 34,
      "metadata": {
        "colab": {
          "base_uri": "https://localhost:8080/"
        },
        "id": "MLb_odHU3iKM",
        "outputId": "a687a222-5a2c-4cdb-c1bf-17cd05b45b69"
      },
      "outputs": [
        {
          "data": {
            "text/plain": [
              "tensor(1.0918)"
            ]
          },
          "execution_count": 34,
          "metadata": {},
          "output_type": "execute_result"
        }
      ],
      "source": [
        "wei.var()"
      ]
    },
    {
      "cell_type": "code",
      "execution_count": 35,
      "metadata": {
        "colab": {
          "base_uri": "https://localhost:8080/"
        },
        "id": "JB82yzt44REI",
        "outputId": "f07da2f1-10bb-4a7a-bcaa-578587977d00"
      },
      "outputs": [
        {
          "data": {
            "text/plain": [
              "tensor([0.1925, 0.1426, 0.2351, 0.1426, 0.2872])"
            ]
          },
          "execution_count": 35,
          "metadata": {},
          "output_type": "execute_result"
        }
      ],
      "source": [
        "torch.softmax(torch.tensor([0.1, -0.2, 0.3, -0.2, 0.5]), dim=-1)"
      ]
    },
    {
      "cell_type": "code",
      "execution_count": 36,
      "metadata": {
        "colab": {
          "base_uri": "https://localhost:8080/"
        },
        "id": "Mpt8569BB9_f",
        "outputId": "5d8b910a-6192-44ba-ebb2-497d88e0b629"
      },
      "outputs": [
        {
          "data": {
            "text/plain": [
              "tensor([0.0326, 0.0030, 0.1615, 0.0030, 0.8000])"
            ]
          },
          "execution_count": 36,
          "metadata": {},
          "output_type": "execute_result"
        }
      ],
      "source": [
        "torch.softmax(torch.tensor([0.1, -0.2, 0.3, -0.2, 0.5])*8, dim=-1) # gets too peaky, converges to one-hot"
      ]
    },
    {
      "cell_type": "code",
      "execution_count": 37,
      "metadata": {
        "colab": {
          "base_uri": "https://localhost:8080/"
        },
        "id": "2Num7sX9CKOH",
        "outputId": "929ceb78-a639-41d6-aac7-12997b5c93f0"
      },
      "outputs": [
        {
          "data": {
            "text/plain": [
              "torch.Size([32, 100])"
            ]
          },
          "execution_count": 37,
          "metadata": {},
          "output_type": "execute_result"
        }
      ],
      "source": [
        "class LayerNorm1d: # (used to be BatchNorm1d)\n",
        "\n",
        "  def __init__(self, dim, eps=1e-5, momentum=0.1):\n",
        "    self.eps = eps\n",
        "    self.gamma = torch.ones(dim)\n",
        "    self.beta = torch.zeros(dim)\n",
        "\n",
        "  def __call__(self, x):\n",
        "    # calculate the forward pass\n",
        "    xmean = x.mean(1, keepdim=True) # batch mean\n",
        "    xvar = x.var(1, keepdim=True) # batch variance\n",
        "    xhat = (x - xmean) / torch.sqrt(xvar + self.eps) # normalize to unit variance\n",
        "    self.out = self.gamma * xhat + self.beta\n",
        "    return self.out\n",
        "\n",
        "  def parameters(self):\n",
        "    return [self.gamma, self.beta]\n",
        "\n",
        "torch.manual_seed(1337)\n",
        "module = LayerNorm1d(100)\n",
        "x = torch.randn(32, 100) # batch size 32 of 100-dimensional vectors\n",
        "x = module(x)\n",
        "x.shape"
      ]
    },
    {
      "cell_type": "code",
      "execution_count": 38,
      "metadata": {
        "colab": {
          "base_uri": "https://localhost:8080/"
        },
        "id": "633T2cmnW1uk",
        "outputId": "7720fa58-0478-4e8a-86a7-502d4cce9443"
      },
      "outputs": [
        {
          "data": {
            "text/plain": [
              "(tensor(0.1469), tensor(0.8803))"
            ]
          },
          "execution_count": 38,
          "metadata": {},
          "output_type": "execute_result"
        }
      ],
      "source": [
        "x[:,0].mean(), x[:,0].std() # mean,std of one feature across all batch inputs"
      ]
    },
    {
      "cell_type": "code",
      "execution_count": 39,
      "metadata": {
        "colab": {
          "base_uri": "https://localhost:8080/"
        },
        "id": "LN9cK9BoXCYb",
        "outputId": "6368ece0-600e-417d-8a91-7c1e5d750ba8"
      },
      "outputs": [
        {
          "data": {
            "text/plain": [
              "(tensor(-9.5367e-09), tensor(1.0000))"
            ]
          },
          "execution_count": 39,
          "metadata": {},
          "output_type": "execute_result"
        }
      ],
      "source": [
        "x[0,:].mean(), x[0,:].std() # mean,std of a single input from the batch, of its features"
      ]
    },
    {
      "cell_type": "code",
      "execution_count": 40,
      "metadata": {
        "id": "dRJH6wM_XFfU"
      },
      "outputs": [],
      "source": [
        "# French to English translation example:\n",
        "\n",
        "# <--------- ENCODE ------------------><--------------- DECODE ----------------->\n",
        "# les réseaux de neurones sont géniaux! <START> neural networks are awesome!<END>\n",
        "\n"
      ]
    },
    {
      "cell_type": "markdown",
      "metadata": {
        "id": "ZcvKeBXoZFOY"
      },
      "source": [
        "### Full finished code, for reference\n",
        "\n",
        "You may want to refer directly to the git repo instead though."
      ]
    },
    {
      "cell_type": "code",
      "execution_count": 11,
      "metadata": {
        "colab": {
          "base_uri": "https://localhost:8080/"
        },
        "id": "hoelkOrFY8bN",
        "outputId": "961304cd-e379-40d4-dd56-8de0b91d2861"
      },
      "outputs": [
        {
          "name": "stdout",
          "output_type": "stream",
          "text": [
            "0.216308 M parameters\n",
            "step 0: train loss 4.8774, val loss 4.8793\n",
            "step 100: train loss 2.9490, val loss 2.9432\n",
            "step 200: train loss 2.8401, val loss 2.8294\n",
            "step 300: train loss 2.7933, val loss 2.7971\n",
            "step 400: train loss 2.7510, val loss 2.7512\n",
            "step 500: train loss 2.7211, val loss 2.7227\n",
            "step 600: train loss 2.6879, val loss 2.6916\n",
            "step 700: train loss 2.6562, val loss 2.6620\n",
            "step 800: train loss 2.6187, val loss 2.6355\n",
            "step 900: train loss 2.5966, val loss 2.6027\n",
            "step 1000: train loss 2.5742, val loss 2.5733\n",
            "step 1100: train loss 2.5418, val loss 2.5544\n",
            "step 1200: train loss 2.5200, val loss 2.5163\n",
            "step 1300: train loss 2.5157, val loss 2.5095\n",
            "step 1400: train loss 2.5005, val loss 2.4961\n",
            "step 1500: train loss 2.4694, val loss 2.4823\n",
            "step 1600: train loss 2.4555, val loss 2.4579\n",
            "step 1700: train loss 2.4335, val loss 2.4440\n",
            "step 1800: train loss 2.4298, val loss 2.4556\n",
            "step 1900: train loss 2.4127, val loss 2.4251\n",
            "step 2000: train loss 2.4046, val loss 2.4199\n",
            "step 2100: train loss 2.3924, val loss 2.4141\n",
            "step 2200: train loss 2.3867, val loss 2.3908\n",
            "step 2300: train loss 2.3710, val loss 2.3863\n",
            "step 2400: train loss 2.3550, val loss 2.3762\n",
            "step 2500: train loss 2.3549, val loss 2.3687\n",
            "step 2600: train loss 2.3521, val loss 2.3669\n",
            "step 2700: train loss 2.3350, val loss 2.3490\n",
            "step 2800: train loss 2.3167, val loss 2.3451\n",
            "step 2900: train loss 2.3102, val loss 2.3430\n",
            "step 3000: train loss 2.2967, val loss 2.3159\n",
            "step 3100: train loss 2.2911, val loss 2.3224\n",
            "step 3200: train loss 2.2937, val loss 2.3217\n",
            "step 3300: train loss 2.2923, val loss 2.3256\n",
            "step 3400: train loss 2.2722, val loss 2.2994\n",
            "step 3500: train loss 2.2658, val loss 2.3030\n",
            "step 3600: train loss 2.2622, val loss 2.2856\n",
            "step 3700: train loss 2.2501, val loss 2.2852\n",
            "step 3800: train loss 2.2566, val loss 2.2959\n",
            "step 3900: train loss 2.2383, val loss 2.2841\n",
            "step 4000: train loss 2.2477, val loss 2.2875\n",
            "step 4100: train loss 2.2373, val loss 2.2742\n",
            "step 4200: train loss 2.2222, val loss 2.2647\n",
            "step 4300: train loss 2.2314, val loss 2.2624\n",
            "step 4400: train loss 2.2191, val loss 2.2586\n",
            "step 4500: train loss 2.2274, val loss 2.2602\n",
            "step 4600: train loss 2.2126, val loss 2.2668\n",
            "step 4700: train loss 2.2196, val loss 2.2556\n",
            "step 4800: train loss 2.2060, val loss 2.2499\n",
            "step 4900: train loss 2.2021, val loss 2.2517\n",
            "step 4999: train loss 2.1896, val loss 2.2357\n",
            "\n",
            "ডুকছিল তালের ধরে চোখে মণের, তারা\n",
            "মুখোদের ধিনে কালোকের, তারাদের মহাম্মদ,\n",
            "আমরা ভয়িল, তালি\n",
            "উন্ত-সে ব্যহ্যা! যখন! হয়ে হে চাও সম্মান ওকসে প্রাণ।\n",
            "খাঁপা এলিমে হিক্ষ, নবীন-মদিতে,\n",
            "গলিয়া প্রজনানে\n",
            "এসো ভাঙিয়া বল।\n",
            "তোরের আঁখি অসে জড়ে ঝরে উঠবে,\n",
            "স্মৃতে মন্তি! বল’\n",
            "মুসাজে। এসা চলাম-হাসিয়া পথ?\n",
            "আসলা আসিতে উহারা\n",
            "প্রাণ, আপনা জানের সাধে গেলে।\n",
            "উপবকে সারামান্তর!..\n",
            "দূর রুপর চোখের দোলোফোরাসি : বিন্ধ্য কে উঢ়াগিী তব দিরে,\n",
            "আজিও মুখ এই কাহার বেড়ো : অনুর!সময়-ন্দীর। হৃদ্রীপা ডুবরগ,\n",
            "ডোক আকাশ-নিশীথশ নাশীন, মুখ!\n",
            "আজি খেয়ালির : মোর মধ্মরার,\n",
            "শিইআন্শএদিশ্রণের!’\n",
            "মহ্ম : ব্যথী কাঁদিয়া জেলে?\n",
            "এই যে চলেনা নয়ন-আমায় মেএলা অর্শ,\n",
            "প্রাণের দল\n",
            "ধ্যাঁদ ছুলি দুকে মেয়ে চোখের অনন্ত তোময্ বীলোরতের বিজায় গানে সবিয়া : মানি। সেই বেণু!।\n",
            "বাঁখি? হসিবে প্রাচীয়, পিয়ে গানে\n",
            "সে কওতম সন্ধ– চাহি থিক,\n",
            "তবু\n",
            "সন্ধু-জল ছোঁশীর!\n",
            "শয়তা-জাতিবে মৃদিনী ‘শহিপুর? কে?\n",
            "কান্মদা-পুকু দেখে রে\n",
            "ভর্দিলেজ প্রাসী সাকিবীরমেস্তেহীন।\n",
            "শিনির মৌন মতকরিকৃত মেঘে,\n",
            "কাবাঁধা যায় ;\n",
            "কখন সলাম উঠি বলালায় ছিলে!’ জ্যতিয়া, হইতে, সর্বাসী বন্দি পরূপের মেখা।\n",
            "মর্বরিকির প্রাণ-মেঘ-বুচলওয়ানি নয়নে\n",
            "চক্ষু-ফুসা শাসবেষ।\n",
            "হায় বেনো – ফিরে মদ্ধিকাল, আমি মুক্ষা-নাগী কওও উঠিবের কলে আল্লেবাসে কয়রের ব্যথাক পড়িয়ে সে জোহে মোর মতো\n",
            "চাঁপে ভীল্রাস্তুময়ান\n",
            "চাহিয়া সকলে ওঠে পরিকারিয়া, নাকিয়া হল চোখে,\n",
            "নাও বলেই আছে বিশ্বিরতি হোমদারি, ‘নরিচিরের মাথিয়া মলিলিল ময়ের কতটম : মারুম!। শুধু যা সহসে নূর্থ, সাধে দে ভাই।\n",
            "ছলা!\n",
            "সে নাচিতিস্মনি,\n",
            "আছে তাই, সে সহশাত্র, তালে\n",
            "তোমার সকল হতে তালোর শাবর,\n",
            "তালুচরো জ্বপনে তোমারে শুচে রোধে\n",
            "দিয়ে তুই কোলের-ভূত রে\n",
            "বাঁধেছিল দুনোবারে চাঁদের স্রবর্ঘতি।\n",
            "নরীরথ হতে চায় বিশায়ে বিকায়ে যাহা মায় হাসলে আলোকে,\n",
            "ওরাও – উলাধু হ’য়া : দিস দেখাওড়া, হতেরই মৃত্যু-ফাঁশিতে আনোয়ায়) ঘোরে,\n",
            "নাই\n",
            "দুখের এরা মৃষ্টিতে সব তারাই ধরে\n",
            "ওঠছে\n",
            "মনিদ দিত\n",
            "আমার অমশ্বর শন্তসে\n",
            "নহিস্বদন৬\n",
            "তোমা, করেফের বধর-যান, মলদ-পিশ্চা উদলের ভাঙায়,\n",
            "হেরতে বন্দ-মোহা্ সে \n",
            "তবের চিখে তুদিয়া ভিক্ষম!যাদের ধ্রুচর-খুনি,\n",
            "কাননে বাকে নাচে?\n",
            "তারই মরণি চোখের’ হায়! –রক্ত দনিদিন নাম ঘর সময়ধের পিঠ কাঁদায়\n",
            "পড়িছে ফিতায় গগলোয়ানি বলখি,\n",
            "হেরে সেই সাধ? বুকে যৌবন্তি দোকোলের অসমাধ নেবিঁধি সাম্য করে,\n",
            "‘পিল পা শান্ত যার খর্মে আমাদল\n",
            "যুরন, ভাইশরে\n",
            "ফুল, তব বন্ধন\n",
            "রাগল তোমার বেণা,\n",
            "ধরে যে \n"
          ]
        }
      ],
      "source": [
        "import torch\n",
        "import torch.nn as nn\n",
        "from torch.nn import functional as F\n",
        "\n",
        "# hyperparameters\n",
        "batch_size = 16 # how many independent sequences will we process in parallel?\n",
        "block_size = 32 # what is the maximum context length for predictions?\n",
        "max_iters = 5000\n",
        "eval_interval = 100\n",
        "learning_rate = 1e-3\n",
        "device = 'cuda' if torch.cuda.is_available() else 'cpu'\n",
        "eval_iters = 200\n",
        "n_embd = 64\n",
        "n_head = 4\n",
        "n_layer = 4\n",
        "dropout = 0.0\n",
        "# ------------\n",
        "\n",
        "torch.manual_seed(1337)\n",
        "\n",
        "with open('dataset/nazrul_poems.txt', 'r', encoding='utf-8') as f:\n",
        "    text = f.read()\n",
        "\n",
        "# here are all the unique characters that occur in this text\n",
        "chars = sorted(list(set(text)))\n",
        "vocab_size = len(chars)\n",
        "# create a mapping from characters to integers\n",
        "stoi = { ch:i for i,ch in enumerate(chars) }\n",
        "itos = { i:ch for i,ch in enumerate(chars) }\n",
        "encode = lambda s: [stoi[c] for c in s] # encoder: take a string, output a list of integers\n",
        "decode = lambda l: ''.join([itos[i] for i in l]) # decoder: take a list of integers, output a string\n",
        "\n",
        "# Train and test splits\n",
        "data = torch.tensor(encode(text), dtype=torch.long)\n",
        "n = int(0.9*len(data)) # first 90% will be train, rest val\n",
        "train_data = data[:n]\n",
        "val_data = data[n:]\n",
        "\n",
        "# data loading\n",
        "def get_batch(split):\n",
        "    # generate a small batch of data of inputs x and targets y\n",
        "    data = train_data if split == 'train' else val_data\n",
        "    ix = torch.randint(len(data) - block_size, (batch_size,))\n",
        "    x = torch.stack([data[i:i+block_size] for i in ix])\n",
        "    y = torch.stack([data[i+1:i+block_size+1] for i in ix])\n",
        "    x, y = x.to(device), y.to(device)\n",
        "    return x, y\n",
        "\n",
        "@torch.no_grad()\n",
        "def estimate_loss():\n",
        "    out = {}\n",
        "    model.eval()\n",
        "    for split in ['train', 'val']:\n",
        "        losses = torch.zeros(eval_iters)\n",
        "        for k in range(eval_iters):\n",
        "            X, Y = get_batch(split)\n",
        "            logits, loss = model(X, Y)\n",
        "            losses[k] = loss.item()\n",
        "        out[split] = losses.mean()\n",
        "    model.train()\n",
        "    return out\n",
        "\n",
        "class Head(nn.Module):\n",
        "    \"\"\" one head of self-attention \"\"\"\n",
        "\n",
        "    def __init__(self, head_size):\n",
        "        super().__init__()\n",
        "        self.key = nn.Linear(n_embd, head_size, bias=False)\n",
        "        self.query = nn.Linear(n_embd, head_size, bias=False)\n",
        "        self.value = nn.Linear(n_embd, head_size, bias=False)\n",
        "        self.register_buffer('tril', torch.tril(torch.ones(block_size, block_size)))\n",
        "\n",
        "        self.dropout = nn.Dropout(dropout)\n",
        "\n",
        "    def forward(self, x):\n",
        "        B,T,C = x.shape\n",
        "        k = self.key(x)   # (B,T,C)\n",
        "        q = self.query(x) # (B,T,C)\n",
        "        # compute attention scores (\"affinities\")\n",
        "        wei = q @ k.transpose(-2,-1) * C**-0.5 # (B, T, C) @ (B, C, T) -> (B, T, T)\n",
        "        wei = wei.masked_fill(self.tril[:T, :T] == 0, float('-inf')) # (B, T, T)\n",
        "        wei = F.softmax(wei, dim=-1) # (B, T, T)\n",
        "        wei = self.dropout(wei)\n",
        "        # perform the weighted aggregation of the values\n",
        "        v = self.value(x) # (B,T,C)\n",
        "        out = wei @ v # (B, T, T) @ (B, T, C) -> (B, T, C)\n",
        "        return out\n",
        "\n",
        "class MultiHeadAttention(nn.Module):\n",
        "    \"\"\" multiple heads of self-attention in parallel \"\"\"\n",
        "\n",
        "    def __init__(self, num_heads, head_size):\n",
        "        super().__init__()\n",
        "        self.heads = nn.ModuleList([Head(head_size) for _ in range(num_heads)])\n",
        "        self.proj = nn.Linear(n_embd, n_embd)\n",
        "        self.dropout = nn.Dropout(dropout)\n",
        "\n",
        "    def forward(self, x):\n",
        "        out = torch.cat([h(x) for h in self.heads], dim=-1)\n",
        "        out = self.dropout(self.proj(out))\n",
        "        return out\n",
        "\n",
        "class FeedFoward(nn.Module):\n",
        "    \"\"\" a simple linear layer followed by a non-linearity \"\"\"\n",
        "\n",
        "    def __init__(self, n_embd):\n",
        "        super().__init__()\n",
        "        self.net = nn.Sequential(\n",
        "            nn.Linear(n_embd, 4 * n_embd),\n",
        "            nn.ReLU(),\n",
        "            nn.Linear(4 * n_embd, n_embd),\n",
        "            nn.Dropout(dropout),\n",
        "        )\n",
        "\n",
        "    def forward(self, x):\n",
        "        return self.net(x)\n",
        "\n",
        "class Block(nn.Module):\n",
        "    \"\"\" Transformer block: communication followed by computation \"\"\"\n",
        "\n",
        "    def __init__(self, n_embd, n_head):\n",
        "        # n_embd: embedding dimension, n_head: the number of heads we'd like\n",
        "        super().__init__()\n",
        "        head_size = n_embd // n_head\n",
        "        self.sa = MultiHeadAttention(n_head, head_size)\n",
        "        self.ffwd = FeedFoward(n_embd)\n",
        "        self.ln1 = nn.LayerNorm(n_embd)\n",
        "        self.ln2 = nn.LayerNorm(n_embd)\n",
        "\n",
        "    def forward(self, x):\n",
        "        x = x + self.sa(self.ln1(x))\n",
        "        x = x + self.ffwd(self.ln2(x))\n",
        "        return x\n",
        "\n",
        "# super simple bigram model\n",
        "class BigramLanguageModel(nn.Module):\n",
        "\n",
        "    def __init__(self):\n",
        "        super().__init__()\n",
        "        # each token directly reads off the logits for the next token from a lookup table\n",
        "        self.token_embedding_table = nn.Embedding(vocab_size, n_embd)\n",
        "        self.position_embedding_table = nn.Embedding(block_size, n_embd)\n",
        "        self.blocks = nn.Sequential(*[Block(n_embd, n_head=n_head) for _ in range(n_layer)])\n",
        "        self.ln_f = nn.LayerNorm(n_embd) # final layer norm\n",
        "        self.lm_head = nn.Linear(n_embd, vocab_size)\n",
        "\n",
        "    def forward(self, idx, targets=None):\n",
        "        B, T = idx.shape\n",
        "\n",
        "        # idx and targets are both (B,T) tensor of integers\n",
        "        tok_emb = self.token_embedding_table(idx) # (B,T,C)\n",
        "        pos_emb = self.position_embedding_table(torch.arange(T, device=device)) # (T,C)\n",
        "        x = tok_emb + pos_emb # (B,T,C)\n",
        "        x = self.blocks(x) # (B,T,C)\n",
        "        x = self.ln_f(x) # (B,T,C)\n",
        "        logits = self.lm_head(x) # (B,T,vocab_size)\n",
        "\n",
        "        if targets is None:\n",
        "            loss = None\n",
        "        else:\n",
        "            B, T, C = logits.shape\n",
        "            logits = logits.view(B*T, C)\n",
        "            targets = targets.view(B*T)\n",
        "            loss = F.cross_entropy(logits, targets)\n",
        "\n",
        "        return logits, loss\n",
        "\n",
        "    def generate(self, idx, max_new_tokens):\n",
        "        # idx is (B, T) array of indices in the current context\n",
        "        for _ in range(max_new_tokens):\n",
        "            # crop idx to the last block_size tokens\n",
        "            idx_cond = idx[:, -block_size:]\n",
        "            # get the predictions\n",
        "            logits, loss = self(idx_cond)\n",
        "            # focus only on the last time step\n",
        "            logits = logits[:, -1, :] # becomes (B, C)\n",
        "            # apply softmax to get probabilities\n",
        "            probs = F.softmax(logits, dim=-1) # (B, C)\n",
        "            # sample from the distribution\n",
        "            idx_next = torch.multinomial(probs, num_samples=1) # (B, 1)\n",
        "            # append sampled index to the running sequence\n",
        "            idx = torch.cat((idx, idx_next), dim=1) # (B, T+1)\n",
        "        return idx\n",
        "\n",
        "model = BigramLanguageModel()\n",
        "m = model.to(device)\n",
        "# print the number of parameters in the model\n",
        "print(sum(p.numel() for p in m.parameters())/1e6, 'M parameters')\n",
        "\n",
        "# create a PyTorch optimizer\n",
        "optimizer = torch.optim.AdamW(model.parameters(), lr=learning_rate)\n",
        "\n",
        "for iter in range(max_iters):\n",
        "\n",
        "    # every once in a while evaluate the loss on train and val sets\n",
        "    if iter % eval_interval == 0 or iter == max_iters - 1:\n",
        "        losses = estimate_loss()\n",
        "        print(f\"step {iter}: train loss {losses['train']:.4f}, val loss {losses['val']:.4f}\")\n",
        "\n",
        "    # sample a batch of data\n",
        "    xb, yb = get_batch('train')\n",
        "\n",
        "    # evaluate the loss\n",
        "    logits, loss = model(xb, yb)\n",
        "    optimizer.zero_grad(set_to_none=True)\n",
        "    loss.backward()\n",
        "    optimizer.step()\n",
        "\n",
        "# generate from the model\n",
        "context = torch.zeros((1, 1), dtype=torch.long, device=device)\n",
        "print(decode(m.generate(context, max_new_tokens=2000)[0].tolist()))\n"
      ]
    },
    {
      "cell_type": "code",
      "execution_count": 35,
      "metadata": {
        "id": "fjjvMifYZf7x"
      },
      "outputs": [
        {
          "name": "stdout",
          "output_type": "stream",
          "text": [
            "একী রণ বাজা বাজে ঘন ঘন মোর অন্তরের ওঠে লাগিল!\n",
            "পরাখ পিবে শেষে ভাঙিবে চলোবে!\n",
            "ভাই তবে মচুর শুধু গো!\n",
            "ফুলিয়াছিলেম, বসিয়, জল মধু\n"
          ]
        }
      ],
      "source": [
        "\n",
        "pre_text = \"একী রণ বাজা বাজে ঘন ঘন\"\n",
        "context = torch.tensor(encode(pre_text), dtype=torch.long, device=device).unsqueeze(0)\n",
        "print(decode(m.generate(context, max_new_tokens=100)[0].tolist()))"
      ]
    }
  ],
  "metadata": {
    "colab": {
      "provenance": []
    },
    "kernelspec": {
      "display_name": ".venv",
      "language": "python",
      "name": "python3"
    },
    "language_info": {
      "codemirror_mode": {
        "name": "ipython",
        "version": 3
      },
      "file_extension": ".py",
      "mimetype": "text/x-python",
      "name": "python",
      "nbconvert_exporter": "python",
      "pygments_lexer": "ipython3",
      "version": "3.12.8"
    }
  },
  "nbformat": 4,
  "nbformat_minor": 0
}
